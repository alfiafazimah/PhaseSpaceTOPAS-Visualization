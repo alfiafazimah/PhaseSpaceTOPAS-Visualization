{
 "cells": [
  {
   "cell_type": "code",
   "execution_count": 1,
   "metadata": {},
   "outputs": [
    {
     "name": "stdout",
     "output_type": "stream",
     "text": [
      "Defaulting to user installation because normal site-packages is not writeable\n",
      "Requirement already satisfied: topas2numpy in /Users/alfiafazimah/Library/Python/3.9/lib/python/site-packages (0.2.0)\n",
      "Requirement already satisfied: numpy in /Users/alfiafazimah/Library/Python/3.9/lib/python/site-packages (from topas2numpy) (2.0.2)\n",
      "Note: you may need to restart the kernel to use updated packages.\n"
     ]
    }
   ],
   "source": [
    "%pip install topas2numpy"
   ]
  },
  {
   "cell_type": "code",
   "execution_count": 2,
   "metadata": {},
   "outputs": [
    {
     "name": "stdout",
     "output_type": "stream",
     "text": [
      "Defaulting to user installation because normal site-packages is not writeable\n",
      "Requirement already satisfied: pandas in /Users/alfiafazimah/Library/Python/3.9/lib/python/site-packages (2.2.3)\n",
      "Requirement already satisfied: numpy>=1.22.4 in /Users/alfiafazimah/Library/Python/3.9/lib/python/site-packages (from pandas) (2.0.2)\n",
      "Requirement already satisfied: python-dateutil>=2.8.2 in /Users/alfiafazimah/Library/Python/3.9/lib/python/site-packages (from pandas) (2.9.0.post0)\n",
      "Requirement already satisfied: pytz>=2020.1 in /Users/alfiafazimah/Library/Python/3.9/lib/python/site-packages (from pandas) (2024.2)\n",
      "Requirement already satisfied: tzdata>=2022.7 in /Users/alfiafazimah/Library/Python/3.9/lib/python/site-packages (from pandas) (2024.2)\n",
      "Requirement already satisfied: six>=1.5 in /Applications/Xcode.app/Contents/Developer/Library/Frameworks/Python3.framework/Versions/3.9/lib/python3.9/site-packages (from python-dateutil>=2.8.2->pandas) (1.15.0)\n",
      "Note: you may need to restart the kernel to use updated packages.\n"
     ]
    }
   ],
   "source": [
    "%pip install pandas"
   ]
  },
  {
   "cell_type": "code",
   "execution_count": 4,
   "metadata": {},
   "outputs": [
    {
     "name": "stdout",
     "output_type": "stream",
     "text": [
      "File: 100_140-000_MAT1_(-08-5688)_BFWP_6060.phsp\n",
      "Field Names (dtype): ('Position X [cm]', 'Position Y [cm]', 'Position Z [cm]', 'Direction Cosine X', 'Direction Cosine Y', 'Energy [MeV]', 'Weight', 'Particle Type (in PDG Format)', 'Flag to tell if Third Direction Cosine is Negative (1 means true)', 'Flag to tell if this is the First Scored Particle from this History (1 means true)')\n",
      "----------------------------------------\n",
      "File: 100_138-000_MAT1_(-08-5688)_BFWP_6060.phsp\n",
      "Field Names (dtype): ('Position X [cm]', 'Position Y [cm]', 'Position Z [cm]', 'Direction Cosine X', 'Direction Cosine Y', 'Energy [MeV]', 'Weight', 'Particle Type (in PDG Format)', 'Flag to tell if Third Direction Cosine is Negative (1 means true)', 'Flag to tell if this is the First Scored Particle from this History (1 means true)')\n",
      "----------------------------------------\n"
     ]
    }
   ],
   "source": [
    "import os\n",
    "from topas2numpy import read_ntuple  \n",
    "\n",
    "# Get the current working directory (where the notebook is located)\n",
    "base_dir = os.getcwd()  \n",
    "phsp_folder = os.path.join(base_dir, \"data/input\")  \n",
    "\n",
    "\n",
    "# Dictionary to store phase space data categorized by nomenclature\n",
    "categorized_phsp_data = {}\n",
    "\n",
    "# Loop through all files in the directory\n",
    "for filename in os.listdir(phsp_folder):\n",
    "    # Check if the file is a phase space file\n",
    "    if filename.endswith(\".phsp\"):\n",
    "        # Full path to the phase space file\n",
    "        file_path = os.path.join(phsp_folder, filename)\n",
    "        \n",
    "        # Load the phase space file using topas2numpy's read_ntuple\n",
    "        data = read_ntuple(file_path)\n",
    "        \n",
    "        # Split the filename based on your nomenclature (underscore as delimiter)\n",
    "        parts = filename.split('_')\n",
    "        \n",
    "        # Extract key information from the filename\n",
    "        beam_type = parts[0]         # Example: '100' (Proton beam)\n",
    "        beam_energy = parts[1]       # Example: '140-000' (140 MeV)\n",
    "        material = parts[2]          # Example: 'MAT1' (Air)\n",
    "        position = parts[3]          # Example: '(-86-5688)' -> extract '-86.5688'\n",
    "        component = parts[4]         # Example: 'BFWP'\n",
    "        size = parts[5]              # Example: '6060'\n",
    "        \n",
    "        # Create a key for this file based on nomenclature\n",
    "        key = f\"{beam_type}_{beam_energy}_{material}_{position}_{component}_{size}\"\n",
    "        \n",
    "        # Initialize the nested dictionary for this key if it doesn't exist\n",
    "        if key not in categorized_phsp_data:\n",
    "            categorized_phsp_data[key] = {}\n",
    "        \n",
    "        # Store the phase space data under this nomenclature key\n",
    "        categorized_phsp_data[key][filename] = data\n",
    "\n",
    "# Now `categorized_phsp_data` holds all the phase space data grouped by the nomenclature\n",
    "for filename in os.listdir(phsp_folder):\n",
    "    # Check if the file is a phase space file\n",
    "    if filename.endswith(\".phsp\"):\n",
    "        # Full path to the phase space file\n",
    "        file_path = os.path.join(phsp_folder, filename)\n",
    "        \n",
    "        # Load the phase space file using topas2numpy's read_ntuple\n",
    "        data = read_ntuple(file_path)\n",
    "        \n",
    "        # Display the structured array's field names (x.dtype.names)\n",
    "        print(f\"File: {filename}\")\n",
    "        print(\"Field Names (dtype):\", data.dtype.names)\n",
    "        print(\"-\" * 40)  # Just to separate the output for each file\n"
   ]
  }
 ],
 "metadata": {
  "kernelspec": {
   "display_name": "Python 3",
   "language": "python",
   "name": "python3"
  },
  "language_info": {
   "codemirror_mode": {
    "name": "ipython",
    "version": 3
   },
   "file_extension": ".py",
   "mimetype": "text/x-python",
   "name": "python",
   "nbconvert_exporter": "python",
   "pygments_lexer": "ipython3",
   "version": "3.9.6"
  }
 },
 "nbformat": 4,
 "nbformat_minor": 2
}
