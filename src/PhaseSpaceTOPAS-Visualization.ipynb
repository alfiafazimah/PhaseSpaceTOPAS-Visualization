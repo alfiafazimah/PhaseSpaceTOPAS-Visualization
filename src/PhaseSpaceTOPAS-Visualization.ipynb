{
 "cells": [
  {
   "cell_type": "markdown",
   "metadata": {},
   "source": []
  },
  {
   "cell_type": "markdown",
   "metadata": {},
   "source": [
    "In this code, we visualize the Phase Space data from TOPAS. \n",
    "The package of topas2numpy is used to convert the phase space data into numpy format.\n",
    "The visualization use matplotlib, and also plotly as interactive plot."
   ]
  },
  {
   "cell_type": "code",
   "execution_count": null,
   "metadata": {},
   "outputs": [],
   "source": [
    "%pip install topas2numpy\n",
    "%pip install pandas\n",
    "%pip install matplotlib\n",
    "%pip install plotly==6.0.0rc0\n",
    "%pip install nbformat"
   ]
  },
  {
   "cell_type": "code",
   "execution_count": 3,
   "metadata": {},
   "outputs": [],
   "source": [
    "import os\n",
    "from topas2numpy import read_ntuple  \n",
    "import matplotlib.pyplot as plt\n",
    "import pandas as pd"
   ]
  },
  {
   "cell_type": "markdown",
   "metadata": {},
   "source": [
    "The directory of for this project is accessed from os.getcwd() as the Base Directory (where the code and data is stored in the computer).\n",
    "The Base Directory is structured as follow:\n",
    "1. Data\n",
    "    - input: for the phase space data\n",
    "    - output: for saving the processed data as image or excel file\n",
    "    - parameter: for the topas code\n",
    "2. src (for the code)\n",
    "\n",
    "Each phase space data must be named within this nomenclature:\n",
    "beam type_beam energy_material_position_before or after of the observed component_the name of the component_other parameter_size of the phase space in cm\n",
    "\n",
    "All of the phase space is traced within the input directory, and categorized as phase space based on the nomenclature using the `for` loop in the directory.\n",
    "The nomenclature is recognized with:\n",
    "        nomen = item.split('_')\n",
    "        beamtype = nomen [0]          \n",
    "        beam_energy = nomen[1]       \n",
    "        material = nomen[2]          \n",
    "        position = nomen[3]     \n",
    "        beforeafter = nomen [4]     \n",
    "        component = nomen[5]         \n",
    "        other = nomen [6]\n",
    "        size = nomen[7]            \n",
    "Each part of nomenclature is list and saved in the variable.\n",
    "\n",
    "The phase space is converted as numpy by using the read_ntuple from topas2numpy.\n",
    "Each converted phase space is stored as data frame, and stored in the categorized_phsp_data dictionary."
   ]
  },
  {
   "cell_type": "code",
   "execution_count": null,
   "metadata": {},
   "outputs": [],
   "source": [
    "#directory\n",
    "basedirectory = os.getcwd()\n",
    "phspdirectory = os.path.join(basedirectory, \"..\",\"data\",\"input\")\n",
    "outputdirectory = os.path.join(basedirectory, \"..\",\"data\",\"output\")\n",
    "\n",
    "# Create the \"output\" folder if it doesn't exist\n",
    "os.makedirs(outputdirectory, exist_ok=True)\n",
    "\n",
    "#dictionary\n",
    "phsp_category = {}\n",
    "phsp_dataframe = {}\n",
    "phsp_label = {}\n",
    "categorized_phsp_data = {}\n",
    "\n",
    "#looping the file inside the directory, \n",
    "for item in os.listdir(phspdirectory): \n",
    "#Returns a list of the names of the entries in a directory\n",
    "    if item.endswith(\".phsp\"):\n",
    "        files = os.path.join (phspdirectory, item)\n",
    "        data = read_ntuple(files)\n",
    "\n",
    "        nomen = item.split('_')\n",
    "        beamtype = nomen [0]          \n",
    "        beam_energy = nomen[1]       \n",
    "        material = nomen[2]          \n",
    "        position = nomen[3]     \n",
    "        beforeafter = nomen [4]     \n",
    "        component = nomen[5]         \n",
    "        other = nomen [6]\n",
    "        size = nomen[7]              \n",
    "        key = f\"{beamtype}_{beam_energy}_{material}_{position}_{beforeafter}_{component}_{size}\"\n",
    "\n",
    "        categorized_phsp_data[key] = {}\n",
    "        categorized_phsp_data[key][item] = data\n",
    "     \n",
    "        df = pd.DataFrame (data) \n",
    "        phsp_dataframe [item] = df\n",
    "\n",
    "        print(f\"File: {item}\")\n",
    "        print(\"Field Names (dtype):\", data.dtype.names)\n",
    "        print(\"-\" * 40)  # Just to separate the output for each file"
   ]
  },
  {
   "cell_type": "markdown",
   "metadata": {},
   "source": [
    "The phase space is plotted using matplotlib.\n",
    "The `if` is used to filter the desired data for the plotting, based on the nomenclature.\n",
    "    if other == 'Default' and 'Energy [MeV]' in df.columns:\n",
    "        plt.hist(df['Energy [MeV]'], bins=1000, alpha=0.5, label=component)"
   ]
  },
  {
   "cell_type": "code",
   "execution_count": null,
   "metadata": {},
   "outputs": [],
   "source": [
    "# Plot energy distributions for each file\n",
    "plt.figure(figsize=(12, 8))\n",
    "\n",
    "for item, df in phsp_dataframe.items():\n",
    "    nomen = item.split('_')\n",
    "    beamtype = nomen [0]          \n",
    "    beam_energy = nomen[1]       \n",
    "    material = nomen[2]          \n",
    "    position = nomen[3]     \n",
    "    beforeafter = nomen [4]     \n",
    "    component = nomen[5]         \n",
    "    other = nomen [6]\n",
    "    size = nomen[7]     \n",
    "    key = f\"{beamtype}_{beam_energy}_{material}_{position}_{beforeafter}_{component}_{size}\"\n",
    "    if component in ['BrassCollimator', 'IronCollimator', 'NickelCollimator', 'CopperCollimator'] and other == 'Default' and 'Energy [MeV]' in df.columns:\n",
    "        plt.hist(df['Energy [MeV]'], bins=1000, alpha=0.5, label=component)\n",
    "\n",
    "\n",
    "# Customize the plot\n",
    "plt.title(\"Energy Histogram\")\n",
    "plt.xlabel(\"Energy (MeV)\")\n",
    "plt.ylabel(\"N Particles\")\n",
    "plt.legend(loc='upper left', fontsize='small')\n",
    "plt.grid(True)\n",
    "\n",
    "# Save the combined graph\n",
    "output_path = os.path.join(outputdirectory, \"energy histogram2.png\")\n",
    "plt.savefig(output_path, dpi=200)\n",
    "plt.show()"
   ]
  },
  {
   "cell_type": "markdown",
   "metadata": {},
   "source": [
    "Plotly is used to make the graphic interactive.\n",
    "The graphic plotted can be filtered based on the nomenclature part.\n",
    "The histogram is plotted by:  \n",
    "        fig = px.histogram(df['Energy [MeV]'], nbins=1000, labels={'value': 'Energy (MeV)'}, \n",
    "                   title=f\"{component}\")"
   ]
  },
  {
   "cell_type": "code",
   "execution_count": null,
   "metadata": {},
   "outputs": [],
   "source": [
    "import plotly.express as px\n",
    "\n",
    "for item, df in phsp_dataframe.items():\n",
    "    nomen = item.split('_')\n",
    "    beamtype = nomen [0]          \n",
    "    beam_energy = nomen[1]       \n",
    "    material = nomen[2]          \n",
    "    position = nomen[3]     \n",
    "    beforeafter = nomen [4]     \n",
    "    component = nomen[5]         \n",
    "    other = nomen [6]\n",
    "    size = nomen[7]     \n",
    "    key = f\"{beamtype}_{beam_energy}_{material}_{position}_{beforeafter}_{component}_{size}\"\n",
    "    if 'Energy [MeV]' in df.columns:\n",
    "        fig = px.histogram(df['Energy [MeV]'], nbins=1000, labels={'value': 'Energy (MeV)'}, \n",
    "                   title=f\"{component}\")\n",
    "        fig.show()"
   ]
  },
  {
   "cell_type": "markdown",
   "metadata": {},
   "source": [
    "Code for Scattering Visualization"
   ]
  },
  {
   "cell_type": "code",
   "execution_count": null,
   "metadata": {},
   "outputs": [],
   "source": [
    "for item, df in phsp_dataframe.items():\n",
    "    nomen = item.split('_')\n",
    "    beamtype = nomen [0]          \n",
    "    beam_energy = nomen[1]       \n",
    "    material = nomen[2]          \n",
    "    position = nomen[3]     \n",
    "    beforeafter = nomen [4]     \n",
    "    component = nomen[5]         \n",
    "    other = nomen [6]\n",
    "    size = nomen[7]     \n",
    "    key = f\"{beamtype}_{beam_energy}_{material}_{position}_{beforeafter}_{component}_{size}\"\n",
    "    if component == \"BrassCollimator\" :\n",
    "        # Plot the scatter\n",
    "        plt.scatter(\n",
    "            df['Position X [cm]'],df['Position Y [cm]'], label={other} \n",
    "        )\n",
    "        # Customize the plot\n",
    "        plt.title(f\"Beam Scattering of {component}\")\n",
    "        plt.xlabel(\"Position X [cm]\")\n",
    "        plt.ylabel(\"Position Y [cm]\")\n",
    "        plt.legend()\n",
    "        plt.grid(True)\n",
    "       \n",
    "\n",
    "#Save the scatter plot\n",
    "output_path = os.path.join(outputdirectory, \"scatter.png\")\n",
    "plt.savefig(output_path, dpi=600)\n",
    "plt.show()\n"
   ]
  }
 ],
 "metadata": {
  "kernelspec": {
   "display_name": "Python 3",
   "language": "python",
   "name": "python3"
  },
  "language_info": {
   "codemirror_mode": {
    "name": "ipython",
    "version": 3
   },
   "file_extension": ".py",
   "mimetype": "text/x-python",
   "name": "python",
   "nbconvert_exporter": "python",
   "pygments_lexer": "ipython3",
   "version": "3.9.6"
  }
 },
 "nbformat": 4,
 "nbformat_minor": 2
}
